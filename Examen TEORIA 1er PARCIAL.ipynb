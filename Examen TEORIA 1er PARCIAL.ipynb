{
  "cells": [
    {
      "cell_type": "markdown",
      "source": [
        "# Examen de Teoria (1er parcial)\n",
        "\nTotes les preguntes valen 2 punts. Aquest examen s'ha de realitzar en un temps màxim de 30 minuts."
      ],
      "metadata": {}
    },
    {
      "cell_type": "markdown",
      "source": [
        "**Pregunta 1**: Donada una taula formada per files del següent tipus:\n",
        "\n",
        "| ID Pacient    | Medicament_1  | Medicament_2 | ... | Medicament_n | Resultat |\n",
        "| ------------- | ------------- | -----        | --- | ------------ | ---------|\n",
        "| 234534        | AV4           | BG7G         | ... |  NIL         | 1        |\n",
        "| 345647        | JGG           | JBSU         | ... |  HGJKH       | 0        |\n",
        "| 984556        | RE6           | JUHG         | ... |  NIL         | 1        |\n",
        "\non ``Medicament_i`` és l'ièssim medicament que es va pendre un pacient durant un tractament i ``Resultat`` val 1 quan el pacient tenir efectes no desitjats (i 0 si no en va tenir), com detectaries possibles interaccions perilloses (efectes laterals no desitjats) entre medicaments? "
      ],
      "metadata": {}
    },
    {
      "cell_type": "markdown",
      "source": [
        "**Pregunta 2**: Quin és el problema del *cold-start* en recomanació i com podem afrontar-lo? "
      ],
      "metadata": {}
    },
    {
      "cell_type": "markdown",
      "source": [
        "*Resposta*"
      ],
      "metadata": {}
    },
    {
      "cell_type": "markdown",
      "source": [
        "**Pregunta 3**: Per què diem que la *distància euclidiana* és pitjor que el *coeficient de correlació de\n",
        "Pearson* per certs problemes de recomanació?"
      ],
      "metadata": {}
    },
    {
      "cell_type": "markdown",
      "source": [
        "*Resposta*"
      ],
      "metadata": {}
    },
    {
      "cell_type": "markdown",
      "source": [
        "**Pregunta 4**: En el marc dels models probabilístics del llenguatge, és absolutament correcte aquesta fòrmula o és una aproximació? Justifica-ho.\n",
        "\n",
        "$$\n",
        "\\begin{equation}\n",
        "P(W_{1:n}) = P(W_n) \\times P(W_{n-1} | W_{n}) \\times P(W_{n-2} | W_{n-1}, W_{n}) \\times \\dots \\times P(W_{1} | W_{2}, \\dots, W_{n})\n",
        "\\end{equation}\n",
        "$$"
      ],
      "metadata": {}
    },
    {
      "cell_type": "markdown",
      "source": [
        "*Resposta*"
      ],
      "metadata": {}
    },
    {
      "cell_type": "markdown",
      "source": [
        "**Pregunta 5:** Què és la funció de distribució mostral de la mitjana? Com en podem obtebir una aproximació amb tènciques de *shuffling*?"
      ],
      "metadata": {}
    },
    {
      "cell_type": "markdown",
      "source": [
        "*Resposta*"
      ],
      "metadata": {}
    }
  ],
  "metadata": {
    "kernelspec": {
      "name": "python3",
      "language": "python",
      "display_name": "Python 3"
    },
    "language_info": {
      "name": "python",
      "version": "3.6.7",
      "mimetype": "text/x-python",
      "codemirror_mode": {
        "name": "ipython",
        "version": 3
      },
      "pygments_lexer": "ipython3",
      "nbconvert_exporter": "python",
      "file_extension": ".py"
    },
    "kernel_info": {
      "name": "python3"
    },
    "nteract": {
      "version": "0.12.3"
    }
  },
  "nbformat": 4,
  "nbformat_minor": 2
}