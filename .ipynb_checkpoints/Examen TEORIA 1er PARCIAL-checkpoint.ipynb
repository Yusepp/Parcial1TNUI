{
 "cells": [
  {
   "cell_type": "markdown",
   "metadata": {},
   "source": [
    "# Examen de Teoria (1er parcial)\n",
    "\n",
    "Totes les preguntes valen 2 punts. Aquest examen s'ha de realitzar en un temps màxim de 30 minuts."
   ]
  },
  {
   "cell_type": "markdown",
   "metadata": {},
   "source": [
    "**Pregunta 1**: Donada una taula formada per files del següent tipus:\n",
    "\n",
    "| ID Pacient    | Medicament_1  | Medicament_2 | ... | Medicament_n | Resultat |\n",
    "| ------------- | ------------- | -----        | --- | ------------ | ---------|\n",
    "| 234534        | AV4           | BG7G         | ... |  NIL         | 1        |\n",
    "| 345647        | JGG           | JBSU         | ... |  HGJKH       | 0        |\n",
    "| 984556        | RE6           | JUHG         | ... |  NIL         | 1        |\n",
    "\n",
    "on ``Medicament_i`` és l'ièssim medicament que es va pendre un pacient durant un tractament i ``Resultat`` val 1 quan el pacient tenir efectes no desitjats (i 0 si no en va tenir), com detectaries possibles interaccions perilloses (efectes laterals no desitjats) entre medicaments? "
   ]
  },
  {
   "cell_type": "markdown",
   "metadata": {},
   "source": [
    "Per resoldre aquesta qüestió s'hauria de fer una taula amb quins medicaments han generat una reacció i amb el nombre de vegades que apareixen donant una reacció. Posteriorment establir un mínim pel qual si un medicament no apareix aquest mínim de vegades descartem que hi hagi reacció. Posteriorment crearíem totes les parelles de medicaments (tenint en compte que m1,m2 = m2,m1), comptar altre cop les ocurrencies de dites parelles quant dona una reacció i descartar les que no compleixen el mínim. Aquest procès es crea per tripletes , quartetes... fins a que trobem que ja no hi ha disponibles que compleixin el mínim. Un cop tenim dites relacions hauríem de crear totes les regles d'associació de l'estil si m1 y m2 llavors m3 també i calcular la seva confiança. Creant un mínim de confiança exemple 60% descartem totes les regles que donin inferior. Per últim s'hauria de calcular l'interès d'aquestes regles on interessen valors o molt alts o molt baixos(tot i que en aquest cas jo valoraria tots els que hagin arribat fins aquí)."
   ]
  },
  {
   "cell_type": "markdown",
   "metadata": {},
   "source": [
    "**Pregunta 2**: Quin és el problema del *cold-start* en recomanació i com podem afrontar-lo? "
   ]
  },
  {
   "cell_type": "markdown",
   "metadata": {},
   "source": [
    "El problema del cold-start s'afronta quant hem de construir un recomanador i la nostra base d'usuaris encara és molt petita(acabem de començar). Per tant és difícil que la recomanació que fem sigui real(gran marge d'error i poca solidesa) ja que tampoc tenim gaires ítems puntuats, ni tants usuaris...\n",
    "\n",
    "S'han de trobar temporalment altres aproximacions o models. Per exemple una recomanació no col·laborativa basada en la descripció dels ítems."
   ]
  },
  {
   "cell_type": "markdown",
   "metadata": {},
   "source": [
    "**Pregunta 3**: Per què diem que la *distància euclidiana* és pitjor que el *coeficient de correlació de\n",
    "Pearson* per certs problemes de recomanació?"
   ]
  },
  {
   "cell_type": "markdown",
   "metadata": {},
   "source": [
    "La distància euclidiana és sensible a persones que opinen tot d'una manera molt extrema o gent que és molt crítica, Pearson pel contrari valora igual aquests comportaments(o els sap interpretar)"
   ]
  },
  {
   "cell_type": "markdown",
   "metadata": {},
   "source": [
    "**Pregunta 4**: En el marc dels models probabilístics del llenguatge, és absolutament correcte aquesta fòrmula o és una aproximació? Justifica-ho.\n",
    "\n",
    "$$\n",
    "\\begin{equation}\n",
    "P(W_{1:n}) = P(W_n) \\times P(W_{n-1} | W_{n}) \\times P(W_{n-2} | W_{n-1}, W_{n}) \\times \\dots \\times P(W_{1} | W_{2}, \\dots, W_{n})\n",
    "\\end{equation}\n",
    "$$"
   ]
  },
  {
   "cell_type": "markdown",
   "metadata": {},
   "source": [
    "Aquesta formula és absolutament correcte ja que tracta de calcular la probabilitat d'una combinació d'expressions tenint en compte tots elements entre si(probabilitat de Wn, probabilitat de que Wn-1 despres de Wm, probablititat de Wn-2 despres de Wn-1 i Wn....).\n",
    "\n",
    "Una aproximació seria calcular només fins a Wn-2."
   ]
  },
  {
   "cell_type": "markdown",
   "metadata": {},
   "source": [
    "**Pregunta 5:** Què és la funció de distribució mostral de la mitjana? Com en podem obtebir una aproximació amb tènciques de *shuffling*?"
   ]
  },
  {
   "cell_type": "markdown",
   "metadata": {},
   "source": [
    "Donats n mostres,calculem les seves mitjanes i representem els seus valors en una gràfica que mostri la seva distribució(mostra probabilitats de que la mitja sigui aquella).\n",
    "\n",
    "La tècnica de shuffling tracta de totes les mostres finites com a única mostra infinita , per tant , si intercanvies x dades de x mostres entre si , la seva distribució mostral hauria de ser la mateixa."
   ]
  },
  {
   "cell_type": "code",
   "execution_count": null,
   "metadata": {},
   "outputs": [],
   "source": []
  }
 ],
 "metadata": {
  "kernel_info": {
   "name": "python3"
  },
  "kernelspec": {
   "display_name": "Python 3",
   "language": "python",
   "name": "python3"
  },
  "language_info": {
   "codemirror_mode": {
    "name": "ipython",
    "version": 3
   },
   "file_extension": ".py",
   "mimetype": "text/x-python",
   "name": "python",
   "nbconvert_exporter": "python",
   "pygments_lexer": "ipython3",
   "version": "3.7.3"
  },
  "nteract": {
   "version": "0.12.3"
  }
 },
 "nbformat": 4,
 "nbformat_minor": 2
}
