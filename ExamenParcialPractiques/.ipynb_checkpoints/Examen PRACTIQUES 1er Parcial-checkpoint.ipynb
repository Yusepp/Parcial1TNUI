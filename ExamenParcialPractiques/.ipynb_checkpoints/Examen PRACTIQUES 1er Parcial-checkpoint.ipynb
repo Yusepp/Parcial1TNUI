{
 "cells": [
  {
   "cell_type": "markdown",
   "metadata": {},
   "source": [
    "# Primer Parcial 2019"
   ]
  },
  {
   "cell_type": "code",
   "execution_count": 1,
   "metadata": {},
   "outputs": [],
   "source": [
    "import numpy as np\n",
    "import pandas as pd"
   ]
  },
  {
   "cell_type": "markdown",
   "metadata": {},
   "source": [
    "# **Exercici 1**\n",
    "\n",
    "### Sistemes de Recomanació\n",
    "\n",
    "**Creació de les dades**\n",
    "\n",
    "Crea un dataframe amb les dades que es mostren a continuació, incloent els nom de files i columnes.\n",
    "\n",
    "Les dades indiquen el nombre de reproduccions de pel·lícules per a diferents usuaris."
   ]
  },
  {
   "cell_type": "markdown",
   "metadata": {},
   "source": [
    "<img src='dades.png' />"
   ]
  },
  {
   "cell_type": "code",
   "execution_count": 280,
   "metadata": {},
   "outputs": [
    {
     "data": {
      "text/html": [
       "<div>\n",
       "<style scoped>\n",
       "    .dataframe tbody tr th:only-of-type {\n",
       "        vertical-align: middle;\n",
       "    }\n",
       "\n",
       "    .dataframe tbody tr th {\n",
       "        vertical-align: top;\n",
       "    }\n",
       "\n",
       "    .dataframe thead th {\n",
       "        text-align: right;\n",
       "    }\n",
       "</style>\n",
       "<table border=\"1\" class=\"dataframe\">\n",
       "  <thead>\n",
       "    <tr style=\"text-align: right;\">\n",
       "      <th></th>\n",
       "      <th>Avengers</th>\n",
       "      <th>Star Wars</th>\n",
       "      <th>Thor</th>\n",
       "      <th>Spider-man</th>\n",
       "      <th>Iron man</th>\n",
       "    </tr>\n",
       "  </thead>\n",
       "  <tbody>\n",
       "    <tr>\n",
       "      <th>Alex</th>\n",
       "      <td>4</td>\n",
       "      <td>2.0</td>\n",
       "      <td>NaN</td>\n",
       "      <td>5.0</td>\n",
       "      <td>4</td>\n",
       "    </tr>\n",
       "    <tr>\n",
       "      <th>Bob</th>\n",
       "      <td>5</td>\n",
       "      <td>3.0</td>\n",
       "      <td>4.0</td>\n",
       "      <td>NaN</td>\n",
       "      <td>3</td>\n",
       "    </tr>\n",
       "    <tr>\n",
       "      <th>Tom</th>\n",
       "      <td>3</td>\n",
       "      <td>NaN</td>\n",
       "      <td>4.0</td>\n",
       "      <td>4.0</td>\n",
       "      <td>3</td>\n",
       "    </tr>\n",
       "  </tbody>\n",
       "</table>\n",
       "</div>"
      ],
      "text/plain": [
       "      Avengers  Star Wars  Thor  Spider-man  Iron man\n",
       "Alex         4        2.0   NaN         5.0         4\n",
       "Bob          5        3.0   4.0         NaN         3\n",
       "Tom          3        NaN   4.0         4.0         3"
      ]
     },
     "execution_count": 280,
     "metadata": {},
     "output_type": "execute_result"
    }
   ],
   "source": [
    "# Implementa (anomena \"df\" a la variable que conté el DataFrame):\n",
    "\n",
    "df = pd.DataFrame.from_dict({\"Avengers\":[4,5,3],\"Star Wars\":[2.0,3.0,np.nan],\"Thor\":[np.nan,4.0,4.0],\n",
    "                             \"Spider-man\":[5.0,np.nan,4.0],\"Iron man\":[4,3,3]})\n",
    "df.index = index=[\"Alex\",\"Bob\",\"Tom\"]\n",
    "df"
   ]
  },
  {
   "cell_type": "markdown",
   "metadata": {},
   "source": [
    "Per tal de poder recomanar és imprescindible definir una funció de similitud entre vectors. \n",
    "\n",
    "Siguin $x$ i $y$ dos vectors, implementa les següents funcions de similitud:\n",
    "\n",
    "1) **Correlació de Pearson**:\n",
    "\n",
    "$${\\displaystyle sim(x,y)={\\frac {\\sum _{i=1}^{n}(x_{i}-{\\bar {x}})(y_{i}-{\\bar {y}})}{{\\sqrt {\\sum _{i=1}^{n}(x_{i}-{\\bar {x}})^{2}}}{\\sqrt {\\sum _{i=1}^{n}(y_{i}-{\\bar {y}})^{2}}}}}} \\in [-1,1] \\\\ \\text{On }\\bar{x} = \\frac{1}{n} \\sum^n_i x_i\\text{ la mitja (i anàlogament per }y\\text{)}$$\n",
    "\n",
    "2) **Similitud cosinus**: \n",
    "\n",
    "$$sim(x, y) = \\frac{x\\cdot y}{||x||\\hspace{0.1cm} ||y||} \\in [-1,1]  \\\\ \\text{On }||x||\\text{ indica la norma de }x\\text{ (i anàlogament per }y\\text{)}$$\n",
    "\n",
    "Notes:\n",
    "\n",
    "- **Recorda que no pots fer servir bucles ni funcions que retornin directament el resultat**.\n",
    "\n",
    "- Les dues mètriques no tenen perquè donar el mateix valor pels mateixos vector.\n",
    "\n",
    "- Pots considerar que no hi ha NaNs en els vectors, han estat substituïts per 0s."
   ]
  },
  {
   "cell_type": "code",
   "execution_count": 281,
   "metadata": {},
   "outputs": [],
   "source": [
    "def pearson(x,y):\n",
    "    \"\"\"\n",
    "    Retorna la correlació de Pearson de dos vectors n-dimensionals.\n",
    "    Pels casos on el divisor sigui 0, retorna 0.\n",
    "    \n",
    "    :param x: Primer vector\n",
    "    :param y: Segon vector\n",
    "    :return : Escalar (float) corresponent a la correlació de Pearson\n",
    "    \"\"\"\n",
    "    diffx = x - np.mean(x) \n",
    "    diffy = y - np.mean(y)\n",
    "    num = np.sum(diffx*diffy)\n",
    "    denom = np.sqrt(np.sum(np.dot(diffx,diffx))) * np.sqrt(np.sum(np.dot(diffy,diffy)))\n",
    "    if(num == 0 or denom == 0):\n",
    "        return 0.0\n",
    "    else:\n",
    "        return num/denom"
   ]
  },
  {
   "cell_type": "code",
   "execution_count": 282,
   "metadata": {},
   "outputs": [],
   "source": [
    "def cosine(x,y):\n",
    "    \"\"\"\n",
    "    Retorna la similitud cosinus de dos vectors n-dimensionals.\n",
    "    Pels casos on el divisor sigui 0, retorna 0.\n",
    "    \n",
    "    :param x: Primer vector\n",
    "    :param y: Segon vector\n",
    "    :return : Escalar (float) corresponent a la similitud cosinus\n",
    "    \"\"\"\n",
    "    num = np.dot(x,y)\n",
    "    denom = np.sqrt(np.dot(x,x)) * np.sqrt(np.dot(y,y))\n",
    "    if(num == 0 or denom == 0):\n",
    "        return 0\n",
    "    else:\n",
    "        return num/denom"
   ]
  },
  {
   "cell_type": "code",
   "execution_count": 283,
   "metadata": {
    "scrolled": true
   },
   "outputs": [
    {
     "name": "stdout",
     "output_type": "stream",
     "text": [
      "0.0\n",
      "0.6060915267313265\n"
     ]
    },
    {
     "data": {
      "text/plain": [
       "[4, 5, 3]"
      ]
     },
     "execution_count": 283,
     "metadata": {},
     "output_type": "execute_result"
    }
   ],
   "source": [
    "x = np.array([1, 1, 1, 0., 2])\n",
    "y = np.array([1, 2, 3, 0., 0.])\n",
    "print(pearson(x, y))\n",
    "print(cosine(x, y))\n",
    "df[\"Avengers\"].tolist()"
   ]
  },
  {
   "cell_type": "markdown",
   "metadata": {},
   "source": [
    "Els usuaris reprodueixen en diferent mesura els items, uns més cops, d'altres menys. Fent servir la següent formula, heu d'escalar la predicció a la mitja de l'usuari.\n",
    "\n",
    "La predicció d'un item $i$ per a un usuari $u$ vindrà donada per:\n",
    "\n",
    "$$pred(u, i) = \\hat{r}_{u,i} = \\bar{r_u} + \\frac{\\sum_{p\\neq u,r_{p,i}>0} sim(u, p)\\cdot (r_{p,i}-\\bar{r_p})}{\\sum_{p\\neq u,r_{p,i}>0} sim(u, p)}$$\n",
    "on $r_{p,i}$ són les reproduccions de l'usuari $p$ per la pel·lícula $i$, $\\bar{r_u}$ és la mitjana de reproduccions de l'usuari $u$ i, similarment, $\\bar{r_p}$ la mitja de reproduccions de l'usuari $p$.\n",
    "\n",
    "Recordeu que únicament heu de tenir en compte les similituds d'aquells usuaris que hagin reproduït les pel·lícules. Implementeu-ho sense bucles."
   ]
  },
  {
   "cell_type": "code",
   "execution_count": 284,
   "metadata": {},
   "outputs": [],
   "source": [
    "def prediction(user, item, df, similarities):\n",
    "    \"\"\"\n",
    "    Utilitzant les similituds i el nombre de vegades que un usuari ha reproduït un ítem\n",
    "    calcula segons la fórmula anterior el valor de recomanació\n",
    "    \n",
    "    No és necessari que consideris una matriu triangular.\n",
    "    No facis servir bucles.\n",
    "    \n",
    "    Si ho necessites, pots fer conversions d'ID a fila/columna amb\n",
    "    df.index.get_loc(id) i df.columns.get_loc(id)\n",
    "    \n",
    "    :param user: ID de l'usuari per la predicció\n",
    "    :param item: ID de l'ítem per la predicció\n",
    "    :param df: Dataframe que conté el nombre de vegades que un usuari \n",
    "        ha reproduït una pel·lícula\n",
    "    :param similarities: Matriu de similituds\n",
    "    :return : Retorna un escalar (float) amb la predicció\n",
    "    \"\"\"\n",
    "    user_id = df.index.get_loc(user)#usuari a recomanar\n",
    "    item_id = df.columns.get_loc(item)#item a recomanar\n",
    "    \n",
    "    df2 = df.copy()\n",
    "    df2 = df2.drop(\"Tom\")\n",
    "    \n",
    "    mean_repro_u = np.mean(df.ix[user_id])#ru\n",
    "    value_item_other_users = df2[item].tolist()#including our\n",
    "    value_item_other_users = np.array(value_item_other_users)#rpi\n",
    "    \n",
    "    mean_other_users = np.array(df2.mean(axis=1))#rp\n",
    "    \n",
    "    sim = similarities[user_id:,:user_id]\n",
    "\n",
    "    num = np.sum(sim*(value_item_other_users-mean_other_users))\n",
    "    denom = np.sum(sim)\n",
    "\n",
    "    return mean_repro_u + (num/denom)"
   ]
  },
  {
   "cell_type": "markdown",
   "metadata": {},
   "source": [
    "Aquesta matriu de similitud **no** correspon amb les dades intencionadament. Feu-la servir per al següent exercici."
   ]
  },
  {
   "cell_type": "code",
   "execution_count": 285,
   "metadata": {},
   "outputs": [],
   "source": [
    "similarities = np.array([[0.        , 0.37510523 , 0.42534257],\n",
    "                         [0.37510523, 0.        , 0.86862112],\n",
    "                         [0.42534257, 0.86862112, 0.        ]])"
   ]
  },
  {
   "cell_type": "code",
   "execution_count": 286,
   "metadata": {},
   "outputs": [
    {
     "name": "stderr",
     "output_type": "stream",
     "text": [
      "/opt/anaconda3/lib/python3.7/site-packages/ipykernel_launcher.py:25: DeprecationWarning: \n",
      ".ix is deprecated. Please use\n",
      ".loc for label based indexing or\n",
      ".iloc for positional indexing\n",
      "\n",
      "See the documentation here:\n",
      "http://pandas.pydata.org/pandas-docs/stable/indexing.html#ix-indexer-is-deprecated\n"
     ]
    },
    {
     "data": {
      "text/plain": [
       "1.2499999999999996"
      ]
     },
     "execution_count": 286,
     "metadata": {},
     "output_type": "execute_result"
    }
   ],
   "source": [
    "prediction('Bob', 'Star Wars', df, similarities)"
   ]
  },
  {
   "cell_type": "markdown",
   "metadata": {},
   "source": [
    "# Exercici 2\n",
    "\n",
    "### Optimització"
   ]
  },
  {
   "cell_type": "code",
   "execution_count": 287,
   "metadata": {},
   "outputs": [],
   "source": [
    "%matplotlib inline\n",
    "import matplotlib.pyplot as plt\n",
    "import numpy as np\n",
    "from matplotlib import cm\n",
    "from plot_utils import *"
   ]
  },
  {
   "cell_type": "markdown",
   "metadata": {},
   "source": [
    "A les pràctiques hem vist com arribar al mínim d'una funció. Ara el que volem es poder trobar mínims o màxims amb el mateix procés iteratiu.\n",
    "\n",
    "Per resoldre aquest problema considerarem la direcció de cerca donada pel **mètode de Newton**.\n",
    "\n",
    "En aquest exercici es demana que implementeu aquest mètode.\n",
    "La modificació que caldrà fer respecte a l'algorisme del descens del gradient vist a classe (en una dimensió) ve donat per l'equació iterativa:\n",
    "\n",
    "$$x^{k+1} = x^{k}-\\alpha^{k} \\frac{\\partial f(x^{k})}{\\partial^2 f(x^{k})}$$\n",
    "\n",
    "Que caldrà repetir fins a arribar a un màxim d'iteracions o fins que $|x^{k+1} - x^{k}|< eps$."
   ]
  },
  {
   "cell_type": "markdown",
   "metadata": {},
   "source": [
    "Per tal de comprovar la correcta implementació del mètode de Newton es donen les funcions $f_1$ i $f_2$ i les seves derivades.\n",
    "\n",
    "$$f_1(x) = x^2$$\n",
    "\n",
    "$$ \\frac{\\partial f_1}{\\partial x} = 2x $$\n",
    "\n",
    "$$ \\partial^2 f_1(x) = \\frac{\\partial^2 f_1}{\\partial x} = 2$$"
   ]
  },
  {
   "cell_type": "code",
   "execution_count": 288,
   "metadata": {},
   "outputs": [],
   "source": [
    "def f1 ( x ):\n",
    "    return x**2\n",
    "\n",
    "def df1(x):\n",
    "    return x*2\n",
    "\n",
    "def d2f1(x):\n",
    "    return 2"
   ]
  },
  {
   "cell_type": "markdown",
   "metadata": {},
   "source": [
    "$$f_2(x) = x^3 - 2x + 2$$\n",
    "\n",
    "$$ \\frac{\\partial f_2}{\\partial x} = 3x^2 -2$$\n",
    "\n",
    "$$ \\partial^2 f_2(x) = \\frac{\\partial^2 f_2}{\\partial x} = 6x$$"
   ]
  },
  {
   "cell_type": "code",
   "execution_count": 289,
   "metadata": {},
   "outputs": [],
   "source": [
    "def f2 ( x ):\n",
    "    return x**3 - 2*x + 2 \n",
    "\n",
    "def df2(x):\n",
    "    return 3*x**2 - 2\n",
    "\n",
    "def d2f2(x):\n",
    "    return 6*x"
   ]
  },
  {
   "cell_type": "code",
   "execution_count": 290,
   "metadata": {},
   "outputs": [],
   "source": [
    "def gradient_descend_Newton(grad, grad_2, x, alpha, eps=1e-6, max_iters=1e2):\n",
    "    \"\"\"\n",
    "    Aquesta funció implementa l'algorisme de Newton, \n",
    "    és a dir, donat un punt inicial, el gradient, la segona derivada i el pas, intenta \n",
    "    trobar el mínim o màxim de la funció seguint l'equació iterativa anterior.\n",
    "    \n",
    "    :param grad: Primera derivada de la funció\n",
    "    :param grad_2: Segona derivada de la funció\n",
    "    :param x: Punt inicial\n",
    "    :param alpha: Pas de cada iteració\n",
    "    :param eps: Moviment mínim realitzat abans de parar\n",
    "    :param max_iter: Iteracions màximes a realitzar\n",
    "    :return: La funció retornarà una llista/tupla amb:\n",
    "        * Una np.array, amb shape [X], que contingui el punt inicial més els punts on s'ha mogut a cada iteració. \n",
    "            X és el nombre d'iteracions fetes + 1\n",
    "        * Punt final, mínim o màxim trobat\n",
    "        𝑥𝑘+1=𝑥𝑘−𝛼𝑘∂𝑓(𝑥𝑘)∂2𝑓(𝑥𝑘)\n",
    "    \"\"\"\n",
    "    xk = float('inf')\n",
    "    punts = [x]\n",
    "    itr = 0\n",
    "    while(itr!=max_iters and np.abs(x-xk) > eps):\n",
    "        xk = x\n",
    "        x = x - (alpha * (grad(x)/grad_2(x)))\n",
    "        itr += 1\n",
    "        punts.append(x)\n",
    "    return np.array(punts),x\n",
    "    "
   ]
  },
  {
   "cell_type": "code",
   "execution_count": 291,
   "metadata": {},
   "outputs": [
    {
     "name": "stdout",
     "output_type": "stream",
     "text": [
      "f1(0.0) = 0.0\n"
     ]
    },
    {
     "data": {
      "image/png": "[encoded data removed]",
      "text/plain": [
       "<Figure size 432x288 with 1 Axes>"
      ]
     },
     "metadata": {
      "needs_background": "light"
     },
     "output_type": "display_data"
    }
   ],
   "source": [
    "# Plot\n",
    "X = np.arange(-5, 5.01, 0.1)\n",
    "x0 = np.random.uniform(-4, 4)\n",
    "points, final_point = gradient_descend_Newton(df1, d2f1, x0, 1)\n",
    "fig = plt.figure()\n",
    "plot_gradient_descend_1d(f1, X, points, final_point, fig)\n",
    "\n",
    "print('f1({}) = {}'.format(final_point, f1(final_point)))"
   ]
  },
  {
   "cell_type": "code",
   "execution_count": 292,
   "metadata": {},
   "outputs": [
    {
     "name": "stdout",
     "output_type": "stream",
     "text": [
      "f2(0.816496580927726) = 0.9113378920963653\n"
     ]
    },
    {
     "data": {
      "image/png": "[encoded data removed]",
      "text/plain": [
       "<Figure size 432x288 with 1 Axes>"
      ]
     },
     "metadata": {
      "needs_background": "light"
     },
     "output_type": "display_data"
    }
   ],
   "source": [
    "# Plot\n",
    "X = np.arange(-4, 4.01, 0.25)\n",
    "x0 = np.random.uniform(-4, 4)\n",
    "points, final_point = gradient_descend_Newton(df2, d2f2, x0, 1)\n",
    "fig = plt.figure()\n",
    "plot_gradient_descend_1d(f2, X, points, final_point, fig)\n",
    "fig.gca().set_ylim([-20, 20])\n",
    "\n",
    "print('f2({}) = {}'.format(final_point, f2(final_point)))"
   ]
  },
  {
   "cell_type": "code",
   "execution_count": null,
   "metadata": {},
   "outputs": [],
   "source": []
  }
 ],
 "metadata": {
  "kernelspec": {
   "display_name": "Python 3",
   "language": "python",
   "name": "python3"
  },
  "language_info": {
   "codemirror_mode": {
    "name": "ipython",
    "version": 3
   },
   "file_extension": ".py",
   "mimetype": "text/x-python",
   "name": "python",
   "nbconvert_exporter": "python",
   "pygments_lexer": "ipython3",
   "version": "3.7.3"
  }
 },
 "nbformat": 4,
 "nbformat_minor": 2
}
